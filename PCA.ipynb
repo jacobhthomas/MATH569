{
 "cells": [
  {
   "cell_type": "code",
   "execution_count": 152,
   "id": "initial_id",
   "metadata": {
    "collapsed": true,
    "ExecuteTime": {
     "end_time": "2024-04-08T14:21:13.745984Z",
     "start_time": "2024-04-08T14:20:44.066471Z"
    }
   },
   "outputs": [
    {
     "name": "stdout",
     "output_type": "stream",
     "text": [
      "Index(['TIME', 'SEGMENTID', 'BUS COUNT                ', 'MESSAGE COUNT',\n",
      "       'SPEED', 'datetime', 'name', 'temp', 'feelslike', 'dew', 'humidity',\n",
      "       'precip', 'precipprob', 'preciptype', 'snow', 'snowdepth', 'windgust',\n",
      "       'windspeed', 'winddir', 'sealevelpressure', 'cloudcover', 'visibility',\n",
      "       'solarradiation', 'solarenergy', 'uvindex', 'severerisk', 'conditions',\n",
      "       'icon', 'stations'],\n",
      "      dtype='object')\n"
     ]
    }
   ],
   "source": [
    "%run Starter_Notebook.ipynb\n",
    "local_traffic_merged = traffic_merged.copy()"
   ]
  },
  {
   "cell_type": "code",
   "outputs": [
    {
     "name": "stdout",
     "output_type": "stream",
     "text": [
      "(2577601, 29)\n",
      "Index(['TIME', 'SEGMENTID', 'BUS COUNT                ', 'MESSAGE COUNT',\n",
      "       'SPEED', 'datetime', 'name', 'temp', 'feelslike', 'dew', 'humidity',\n",
      "       'precip', 'precipprob', 'preciptype', 'snow', 'snowdepth', 'windgust',\n",
      "       'windspeed', 'winddir', 'sealevelpressure', 'cloudcover', 'visibility',\n",
      "       'solarradiation', 'solarenergy', 'uvindex', 'severerisk', 'conditions',\n",
      "       'icon', 'stations'],\n",
      "      dtype='object')\n"
     ]
    }
   ],
   "source": [
    "local_traffic_merged.sort_values('TIME', ascending=True)\n",
    "print(local_traffic_merged.shape)\n",
    "print(local_traffic_merged.columns)"
   ],
   "metadata": {
    "collapsed": false,
    "ExecuteTime": {
     "end_time": "2024-04-08T14:22:11.033290700Z",
     "start_time": "2024-04-08T14:22:09.173975200Z"
    }
   },
   "id": "bced9e24f2ca29b7",
   "execution_count": 153
  },
  {
   "cell_type": "markdown",
   "source": [
    "**Cleaning the Data**:\n",
    "   - **Missing values**: Check for any missing or NaN values in the dataset. \n",
    "  \n",
    "At this point we see that we have 29 features with the names as seen above. First, we take a look at the missing values:"
   ],
   "metadata": {
    "collapsed": false
   },
   "id": "523b2b4e53bf13bd"
  },
  {
   "cell_type": "code",
   "outputs": [
    {
     "name": "stdout",
     "output_type": "stream",
     "text": [
      "TIME                               0\n",
      "SEGMENTID                          0\n",
      "BUS COUNT                          0\n",
      "MESSAGE COUNT                      0\n",
      "SPEED                              0\n",
      "datetime                           0\n",
      "name                          126557\n",
      "temp                          126557\n",
      "feelslike                     126557\n",
      "dew                           126557\n",
      "humidity                      126557\n",
      "precip                        126557\n",
      "precipprob                    126557\n",
      "preciptype                   2306808\n",
      "snow                          126557\n",
      "snowdepth                     126557\n",
      "windgust                      126557\n",
      "windspeed                     126557\n",
      "winddir                       126557\n",
      "sealevelpressure              126557\n",
      "cloudcover                    126557\n",
      "visibility                    126557\n",
      "solarradiation                126557\n",
      "solarenergy                   126557\n",
      "uvindex                       126557\n",
      "severerisk                   2577601\n",
      "conditions                    126557\n",
      "icon                          126557\n",
      "stations                      126557\n",
      "dtype: int64\n"
     ]
    }
   ],
   "source": [
    "print(local_traffic_merged.isnull().sum())"
   ],
   "metadata": {
    "collapsed": false,
    "ExecuteTime": {
     "end_time": "2024-04-08T14:25:04.753923700Z",
     "start_time": "2024-04-08T14:25:04.003037400Z"
    }
   },
   "id": "ea6dc9d3b798e6fe",
   "execution_count": 156
  },
  {
   "cell_type": "markdown",
   "source": [
    "Dealing with following columns: 'name', 'severerisk', 'stations', 'datetime'\n",
    "I will be dropping them because they are definitely not relevant to our analysis"
   ],
   "metadata": {
    "collapsed": false
   },
   "id": "4bd62581cf07528d"
  },
  {
   "cell_type": "code",
   "outputs": [],
   "source": [
    "# strip whitespace from column names\n",
    "local_traffic_merged.columns = local_traffic_merged.columns.str.strip()\n",
    "\n",
    "# drop the columns \n",
    "local_traffic_merged.drop(['name', 'severerisk', 'stations', 'datetime'], axis=1, inplace=True)"
   ],
   "metadata": {
    "collapsed": false,
    "ExecuteTime": {
     "end_time": "2024-04-08T14:25:47.474482400Z",
     "start_time": "2024-04-08T14:25:47.197121900Z"
    }
   },
   "id": "7e0b7354525f1c2c",
   "execution_count": 157
  },
  {
   "cell_type": "code",
   "outputs": [
    {
     "name": "stdout",
     "output_type": "stream",
     "text": [
      "(2577601, 25)\n"
     ]
    }
   ],
   "source": [
    "print(local_traffic_merged.shape)"
   ],
   "metadata": {
    "collapsed": false,
    "ExecuteTime": {
     "end_time": "2024-04-08T14:26:07.472242400Z",
     "start_time": "2024-04-08T14:26:07.451616500Z"
    }
   },
   "id": "131c71e48e8ec0dd",
   "execution_count": 158
  },
  {
   "cell_type": "markdown",
   "source": [
    "Now we \n",
    "1. Loop through each column in the DataFrame\n",
    "2. Count the number of NaN values \n",
    "3. Forward fill and backward fill to handle NaN values\n",
    "4. Check if there are still NaN values after ffill and bfill\n",
    "5. Fill the remaining NaNs with the most common value\n",
    "\n"
   ],
   "metadata": {
    "collapsed": false
   },
   "id": "a9473e584b7fc11a"
  },
  {
   "cell_type": "code",
   "outputs": [
    {
     "name": "stdout",
     "output_type": "stream",
     "text": [
      "Processing column: temp\n",
      "Used '33.9' to fill 126557 NaNs in temp\n",
      "First 10 unique values in temp after filling NaNs: [67.2 69.6 72.1 74.9 78.2 79.1 79.7 77.8 74.7 72.7]\n",
      "\n",
      "Processing column: feelslike\n",
      "Used '31.5' to fill 126557 NaNs in feelslike\n",
      "First 10 unique values in feelslike after filling NaNs: [67.2 69.6 72.1 74.9 78.2 79.1 79.7 77.8 74.7 72.7]\n",
      "\n",
      "Processing column: dew\n",
      "Used '38.0' to fill 126557 NaNs in dew\n",
      "First 10 unique values in dew after filling NaNs: [29.4 28.9 29.  27.5 27.2 25.5 24.1 25.2 26.4 23.8]\n",
      "\n",
      "Processing column: humidity\n",
      "Used '95.55' to fill 126557 NaNs in humidity\n",
      "First 10 unique values in humidity after filling NaNs: [24.24 22.35 20.53 18.23 16.46 15.01 14.54 13.85 13.62 15.77]\n",
      "\n",
      "Processing column: precip\n",
      "Used '0.0' to fill 126557 NaNs in precip\n",
      "First 10 unique values in precip after filling NaNs: [0.    0.013 0.008 0.002 0.011 0.018 0.015 0.001 0.005 0.003]\n",
      "\n",
      "Processing column: precipprob\n",
      "Used '0.0' to fill 126557 NaNs in precipprob\n",
      "First 10 unique values in precipprob after filling NaNs: [  0. 100.]\n",
      "\n",
      "Processing column: preciptype\n",
      "Used 'rain' to fill 2306808 NaNs in preciptype\n",
      "First 10 unique values in preciptype after filling NaNs: ['rain' 'rain,snow' 'snow']\n",
      "\n",
      "Processing column: snow\n",
      "Used '0.0' to fill 126557 NaNs in snow\n",
      "First 10 unique values in snow after filling NaNs: [0.   0.16 0.12 0.04 0.08]\n",
      "\n",
      "Processing column: snowdepth\n",
      "Used '0.0' to fill 126557 NaNs in snowdepth\n",
      "First 10 unique values in snowdepth after filling NaNs: [0.   0.08 0.12 0.35 0.79 0.83 0.91 0.98 1.06 1.14]\n",
      "\n",
      "Processing column: windgust\n",
      "Used '21.9' to fill 126557 NaNs in windgust\n",
      "First 10 unique values in windgust after filling NaNs: [27.7 23.  25.1 25.2 25.3 26.4 25.8 24.2 26.1 26. ]\n",
      "\n",
      "Processing column: windspeed\n",
      "Used '0.0' to fill 126557 NaNs in windspeed\n",
      "First 10 unique values in windspeed after filling NaNs: [18.7 15.9 12.6 13.1 14.6 15.6 17.1 14.4 13.5 16.4]\n",
      "\n",
      "Processing column: winddir\n",
      "Used '0.0' to fill 126557 NaNs in winddir\n",
      "First 10 unique values in winddir after filling NaNs: [198. 190. 180. 194. 203. 189. 214. 202. 208. 212.]\n",
      "\n",
      "Processing column: sealevelpressure\n",
      "Used '1022.1' to fill 126557 NaNs in sealevelpressure\n",
      "First 10 unique values in sealevelpressure after filling NaNs: [1014.9 1014.7 1014.8 1015.1 1015.9 1016.5 1017.2 1018.4 1019.6 1020.6]\n",
      "\n",
      "Processing column: cloudcover\n",
      "Used '100.0' to fill 126557 NaNs in cloudcover\n",
      "First 10 unique values in cloudcover after filling NaNs: [24.2 44.  29.4  6.2  0.  18.  35.3 58.9 54.7 92.8]\n",
      "\n",
      "Processing column: visibility\n",
      "Used '9.9' to fill 126557 NaNs in visibility\n",
      "First 10 unique values in visibility after filling NaNs: [9.9 9.7 9.1 5.6 2.8 1.5 1.9 2.  1.7 3.2]\n",
      "\n",
      "Processing column: solarradiation\n",
      "Used '0.0' to fill 126557 NaNs in solarradiation\n",
      "First 10 unique values in solarradiation after filling NaNs: [  0.  27. 134. 285. 440. 612. 832. 844. 914. 799.]\n",
      "\n",
      "Processing column: solarenergy\n",
      "Used '0.0' to fill 126557 NaNs in solarenergy\n",
      "First 10 unique values in solarenergy after filling NaNs: [0.  0.1 0.5 1.  1.6 2.2 3.  3.3 2.9 2.4]\n",
      "\n",
      "Processing column: uvindex\n",
      "Used '0.0' to fill 126557 NaNs in uvindex\n",
      "First 10 unique values in uvindex after filling NaNs: [0. 1. 3. 4. 6. 8. 9. 7. 5. 2.]\n",
      "\n",
      "Processing column: conditions\n",
      "Used 'Partially cloudy' to fill 126557 NaNs in conditions\n",
      "First 10 unique values in conditions after filling NaNs: ['Partially cloudy' 'Clear' 'Overcast' 'Rain, Overcast'\n",
      " 'Snow, Rain, Overcast' 'Snow, Overcast']\n",
      "\n",
      "Processing column: icon\n",
      "Used 'partly-cloudy-day' to fill 126557 NaNs in icon\n",
      "First 10 unique values in icon after filling NaNs: ['partly-cloudy-night' 'partly-cloudy-day' 'clear-day' 'clear-night'\n",
      " 'cloudy' 'rain' 'snow']\n"
     ]
    }
   ],
   "source": [
    "for column in local_traffic_merged.columns:\n",
    "    nan_count_before = local_traffic_merged[column].isnull().sum()\n",
    "    if nan_count_before > 0:\n",
    "        print(f\"Processing column: {column}\")\n",
    "\n",
    "        local_traffic_merged[column] = local_traffic_merged[column].ffill().bfill()\n",
    "\n",
    "        most_common_value = local_traffic_merged[column].mode()[0]\n",
    "\n",
    "        nan_count_after = local_traffic_merged[column].isnull().sum()\n",
    "        if nan_count_after > 0:\n",
    "            local_traffic_merged[column].fillna(most_common_value, inplace=True)\n",
    "\n",
    "        if local_traffic_merged[column].isnull().any():\n",
    "            raise Exception(f\"NaN values still present in {column} after filling!\")\n",
    "\n",
    "        unique_values = local_traffic_merged[column].unique()[:10]\n",
    "        nan_filled = nan_count_before - nan_count_after\n",
    "\n",
    "        print(f\"Used '{most_common_value}' to fill {nan_filled} NaNs in {column}\")\n",
    "        print(f\"First 10 unique values in {column} after filling NaNs: {unique_values}\\n\")"
   ],
   "metadata": {
    "collapsed": false,
    "ExecuteTime": {
     "end_time": "2024-04-08T14:27:47.173862600Z",
     "start_time": "2024-04-08T14:27:42.452120600Z"
    }
   },
   "id": "9ba0f0cb8d6b710c",
   "execution_count": 159
  },
  {
   "cell_type": "code",
   "outputs": [],
   "source": [
    "for column in local_traffic_merged.columns:\n",
    "    if local_traffic_merged[column].isnull().any():\n",
    "        # If NaN values are found, raise an exception\n",
    "        raise Exception(f\"NaN values found in column {column}\")"
   ],
   "metadata": {
    "collapsed": false,
    "ExecuteTime": {
     "end_time": "2024-04-08T14:31:02.110236400Z",
     "start_time": "2024-04-08T14:31:01.544028700Z"
    }
   },
   "id": "9de11a62f608afee",
   "execution_count": 161
  },
  {
   "cell_type": "markdown",
   "source": [
    "We got rid of all the nan values, double checked our work and now move on to create a new column for the time, that is as accurate a the TIME column but in the common pandas datetime format to help with geospatial and other analysis."
   ],
   "metadata": {
    "collapsed": false
   },
   "id": "b5c60a9c11437ffc"
  },
  {
   "cell_type": "code",
   "outputs": [
    {
     "name": "stdout",
     "output_type": "stream",
     "text": [
      "                           TIME       accurate_time\n",
      "2577600  04/01/2018 12:01:06 AM 2018-04-01 00:01:06\n",
      "2577597  04/01/2018 12:01:06 AM 2018-04-01 00:01:06\n",
      "2577596  04/01/2018 12:01:06 AM 2018-04-01 00:01:06\n",
      "2577595  04/01/2018 12:01:06 AM 2018-04-01 00:01:06\n",
      "2577594  04/01/2018 12:01:06 AM 2018-04-01 00:01:06\n"
     ]
    }
   ],
   "source": [
    "import pandas as pd\n",
    "\n",
    "# Convert the 'TIME' column to datetime format and create a new 'accurate_time' column\n",
    "local_traffic_merged['accurate_time'] = pd.to_datetime(local_traffic_merged['TIME'], format='%m/%d/%Y %I:%M:%S %p')\n",
    "\n",
    "# Now 'accurate_time' is in the common pandas datetime format and can be used for further analysis\n",
    "# Sorting the DataFrame by 'accurate_time' if needed\n",
    "local_traffic_merged = local_traffic_merged.sort_values(\"accurate_time\", ascending=True)\n",
    "\n",
    "# Check the first few rows to ensure the 'accurate_time' column is processed correctly\n",
    "print(local_traffic_merged[['TIME', 'accurate_time']].head())"
   ],
   "metadata": {
    "collapsed": false,
    "ExecuteTime": {
     "end_time": "2024-04-08T14:36:09.254071Z",
     "start_time": "2024-04-08T14:36:07.961942500Z"
    }
   },
   "id": "aaaa4dc6ff4a566b",
   "execution_count": 163
  },
  {
   "cell_type": "markdown",
   "source": [
    "\n",
    "### 2. Visualization\n",
    "- **Histograms**: Show the frequency distribution of a single variable and identify the shape of the distribution (normal, skewed, etc.).\n",
    "- **Box Plots**: Useful for identifying outliers and understanding the quartile spread of the data.\n",
    "- **Scatter Plots**: Great for identifying relationships between two variables.\n",
    "- **Time Series Plots**: If you're dealing with temporal data, time series plots can show trends, cycles, and seasonality.\n",
    "- **Heatmaps**: Good for visualizing the correlation between features."
   ],
   "metadata": {
    "collapsed": false
   },
   "id": "d208e8b026332f43"
  },
  {
   "cell_type": "code",
   "outputs": [
    {
     "data": {
      "text/plain": "<Figure size 640x480 with 1 Axes>",
      "image/png": "[encoded data removed]"
     },
     "metadata": {},
     "output_type": "display_data"
    },
    {
     "data": {
      "text/plain": "<Figure size 640x480 with 1 Axes>",
      "image/png": "[encoded data removed]"
     },
     "metadata": {},
     "output_type": "display_data"
    },
    {
     "ename": "ValueError",
     "evalue": "could not convert string to float: '2018-04-30T23:00:00'",
     "output_type": "error",
     "traceback": [
      "\u001B[1;31m---------------------------------------------------------------------------\u001B[0m",
      "\u001B[1;31mValueError\u001B[0m                                Traceback (most recent call last)",
      "Cell \u001B[1;32mIn[145], line 18\u001B[0m\n\u001B[0;32m     15\u001B[0m plt\u001B[38;5;241m.\u001B[39mshow()\n\u001B[0;32m     17\u001B[0m \u001B[38;5;66;03m# Heatmap for correlation\u001B[39;00m\n\u001B[1;32m---> 18\u001B[0m corr_matrix \u001B[38;5;241m=\u001B[39m \u001B[43mlocal_traffic_merged\u001B[49m\u001B[38;5;241;43m.\u001B[39;49m\u001B[43mcorr\u001B[49m\u001B[43m(\u001B[49m\u001B[43m)\u001B[49m\n\u001B[0;32m     19\u001B[0m sns\u001B[38;5;241m.\u001B[39mheatmap(corr_matrix)\n\u001B[0;32m     20\u001B[0m plt\u001B[38;5;241m.\u001B[39mtitle(\u001B[38;5;124m'\u001B[39m\u001B[38;5;124mHeatmap of Correlation Matrix\u001B[39m\u001B[38;5;124m'\u001B[39m)\n",
      "File \u001B[1;32m~\\AppData\\Local\\Programs\\Python\\Python39\\lib\\site-packages\\pandas\\core\\frame.py:11036\u001B[0m, in \u001B[0;36mDataFrame.corr\u001B[1;34m(self, method, min_periods, numeric_only)\u001B[0m\n\u001B[0;32m  11034\u001B[0m cols \u001B[38;5;241m=\u001B[39m data\u001B[38;5;241m.\u001B[39mcolumns\n\u001B[0;32m  11035\u001B[0m idx \u001B[38;5;241m=\u001B[39m cols\u001B[38;5;241m.\u001B[39mcopy()\n\u001B[1;32m> 11036\u001B[0m mat \u001B[38;5;241m=\u001B[39m \u001B[43mdata\u001B[49m\u001B[38;5;241;43m.\u001B[39;49m\u001B[43mto_numpy\u001B[49m\u001B[43m(\u001B[49m\u001B[43mdtype\u001B[49m\u001B[38;5;241;43m=\u001B[39;49m\u001B[38;5;28;43mfloat\u001B[39;49m\u001B[43m,\u001B[49m\u001B[43m \u001B[49m\u001B[43mna_value\u001B[49m\u001B[38;5;241;43m=\u001B[39;49m\u001B[43mnp\u001B[49m\u001B[38;5;241;43m.\u001B[39;49m\u001B[43mnan\u001B[49m\u001B[43m,\u001B[49m\u001B[43m \u001B[49m\u001B[43mcopy\u001B[49m\u001B[38;5;241;43m=\u001B[39;49m\u001B[38;5;28;43;01mFalse\u001B[39;49;00m\u001B[43m)\u001B[49m\n\u001B[0;32m  11038\u001B[0m \u001B[38;5;28;01mif\u001B[39;00m method \u001B[38;5;241m==\u001B[39m \u001B[38;5;124m\"\u001B[39m\u001B[38;5;124mpearson\u001B[39m\u001B[38;5;124m\"\u001B[39m:\n\u001B[0;32m  11039\u001B[0m     correl \u001B[38;5;241m=\u001B[39m libalgos\u001B[38;5;241m.\u001B[39mnancorr(mat, minp\u001B[38;5;241m=\u001B[39mmin_periods)\n",
      "File \u001B[1;32m~\\AppData\\Local\\Programs\\Python\\Python39\\lib\\site-packages\\pandas\\core\\frame.py:1981\u001B[0m, in \u001B[0;36mDataFrame.to_numpy\u001B[1;34m(self, dtype, copy, na_value)\u001B[0m\n\u001B[0;32m   1979\u001B[0m \u001B[38;5;28;01mif\u001B[39;00m dtype \u001B[38;5;129;01mis\u001B[39;00m \u001B[38;5;129;01mnot\u001B[39;00m \u001B[38;5;28;01mNone\u001B[39;00m:\n\u001B[0;32m   1980\u001B[0m     dtype \u001B[38;5;241m=\u001B[39m np\u001B[38;5;241m.\u001B[39mdtype(dtype)\n\u001B[1;32m-> 1981\u001B[0m result \u001B[38;5;241m=\u001B[39m \u001B[38;5;28;43mself\u001B[39;49m\u001B[38;5;241;43m.\u001B[39;49m\u001B[43m_mgr\u001B[49m\u001B[38;5;241;43m.\u001B[39;49m\u001B[43mas_array\u001B[49m\u001B[43m(\u001B[49m\u001B[43mdtype\u001B[49m\u001B[38;5;241;43m=\u001B[39;49m\u001B[43mdtype\u001B[49m\u001B[43m,\u001B[49m\u001B[43m \u001B[49m\u001B[43mcopy\u001B[49m\u001B[38;5;241;43m=\u001B[39;49m\u001B[43mcopy\u001B[49m\u001B[43m,\u001B[49m\u001B[43m \u001B[49m\u001B[43mna_value\u001B[49m\u001B[38;5;241;43m=\u001B[39;49m\u001B[43mna_value\u001B[49m\u001B[43m)\u001B[49m\n\u001B[0;32m   1982\u001B[0m \u001B[38;5;28;01mif\u001B[39;00m result\u001B[38;5;241m.\u001B[39mdtype \u001B[38;5;129;01mis\u001B[39;00m \u001B[38;5;129;01mnot\u001B[39;00m dtype:\n\u001B[0;32m   1983\u001B[0m     result \u001B[38;5;241m=\u001B[39m np\u001B[38;5;241m.\u001B[39marray(result, dtype\u001B[38;5;241m=\u001B[39mdtype, copy\u001B[38;5;241m=\u001B[39m\u001B[38;5;28;01mFalse\u001B[39;00m)\n",
      "File \u001B[1;32m~\\AppData\\Local\\Programs\\Python\\Python39\\lib\\site-packages\\pandas\\core\\internals\\managers.py:1692\u001B[0m, in \u001B[0;36mBlockManager.as_array\u001B[1;34m(self, dtype, copy, na_value)\u001B[0m\n\u001B[0;32m   1690\u001B[0m         arr\u001B[38;5;241m.\u001B[39mflags\u001B[38;5;241m.\u001B[39mwriteable \u001B[38;5;241m=\u001B[39m \u001B[38;5;28;01mFalse\u001B[39;00m\n\u001B[0;32m   1691\u001B[0m \u001B[38;5;28;01melse\u001B[39;00m:\n\u001B[1;32m-> 1692\u001B[0m     arr \u001B[38;5;241m=\u001B[39m \u001B[38;5;28;43mself\u001B[39;49m\u001B[38;5;241;43m.\u001B[39;49m\u001B[43m_interleave\u001B[49m\u001B[43m(\u001B[49m\u001B[43mdtype\u001B[49m\u001B[38;5;241;43m=\u001B[39;49m\u001B[43mdtype\u001B[49m\u001B[43m,\u001B[49m\u001B[43m \u001B[49m\u001B[43mna_value\u001B[49m\u001B[38;5;241;43m=\u001B[39;49m\u001B[43mna_value\u001B[49m\u001B[43m)\u001B[49m\n\u001B[0;32m   1693\u001B[0m     \u001B[38;5;66;03m# The underlying data was copied within _interleave, so no need\u001B[39;00m\n\u001B[0;32m   1694\u001B[0m     \u001B[38;5;66;03m# to further copy if copy=True or setting na_value\u001B[39;00m\n\u001B[0;32m   1696\u001B[0m \u001B[38;5;28;01mif\u001B[39;00m na_value \u001B[38;5;129;01mis\u001B[39;00m lib\u001B[38;5;241m.\u001B[39mno_default:\n",
      "File \u001B[1;32m~\\AppData\\Local\\Programs\\Python\\Python39\\lib\\site-packages\\pandas\\core\\internals\\managers.py:1751\u001B[0m, in \u001B[0;36mBlockManager._interleave\u001B[1;34m(self, dtype, na_value)\u001B[0m\n\u001B[0;32m   1749\u001B[0m     \u001B[38;5;28;01melse\u001B[39;00m:\n\u001B[0;32m   1750\u001B[0m         arr \u001B[38;5;241m=\u001B[39m blk\u001B[38;5;241m.\u001B[39mget_values(dtype)\n\u001B[1;32m-> 1751\u001B[0m     \u001B[43mresult\u001B[49m\u001B[43m[\u001B[49m\u001B[43mrl\u001B[49m\u001B[38;5;241;43m.\u001B[39;49m\u001B[43mindexer\u001B[49m\u001B[43m]\u001B[49m \u001B[38;5;241m=\u001B[39m arr\n\u001B[0;32m   1752\u001B[0m     itemmask[rl\u001B[38;5;241m.\u001B[39mindexer] \u001B[38;5;241m=\u001B[39m \u001B[38;5;241m1\u001B[39m\n\u001B[0;32m   1754\u001B[0m \u001B[38;5;28;01mif\u001B[39;00m \u001B[38;5;129;01mnot\u001B[39;00m itemmask\u001B[38;5;241m.\u001B[39mall():\n",
      "\u001B[1;31mValueError\u001B[0m: could not convert string to float: '2018-04-30T23:00:00'"
     ]
    }
   ],
   "source": [
    "import matplotlib.pyplot as plt\n",
    "import seaborn as sns\n",
    "\n",
    "# Histogram\n",
    "plt.hist(local_traffic_merged['SPEED'], bins=20)\n",
    "plt.title('Distribution of Speed')\n",
    "plt.xlabel('Speed')\n",
    "plt.ylabel('Frequency')\n",
    "plt.show()\n",
    "\n",
    "# Box Plot\n",
    "plt.boxplot(local_traffic_merged['SPEED'])\n",
    "plt.title('Box Plot of Speed')\n",
    "plt.ylabel('Speed')\n",
    "plt.show()\n",
    "\n",
    "# Heatmap for correlation\n",
    "corr_matrix = local_traffic_merged.corr()\n",
    "sns.heatmap(corr_matrix)\n",
    "plt.title('Heatmap of Correlation Matrix')\n",
    "plt.show()"
   ],
   "metadata": {
    "collapsed": false,
    "ExecuteTime": {
     "end_time": "2024-04-08T14:03:59.001248700Z",
     "start_time": "2024-04-08T14:03:57.400475100Z"
    }
   },
   "id": "e30d5d2a7c0d75e8",
   "execution_count": 145
  },
  {
   "cell_type": "code",
   "outputs": [],
   "source": [
    "local_traffic_merged"
   ],
   "metadata": {
    "collapsed": false,
    "ExecuteTime": {
     "start_time": "2024-04-08T14:03:58.997249500Z"
    }
   },
   "id": "d8e03b8a38ddb460",
   "execution_count": null
  }
 ],
 "metadata": {
  "kernelspec": {
   "display_name": "Python 3",
   "language": "python",
   "name": "python3"
  },
  "language_info": {
   "codemirror_mode": {
    "name": "ipython",
    "version": 2
   },
   "file_extension": ".py",
   "mimetype": "text/x-python",
   "name": "python",
   "nbconvert_exporter": "python",
   "pygments_lexer": "ipython2",
   "version": "2.7.6"
  }
 },
 "nbformat": 4,
 "nbformat_minor": 5
}
