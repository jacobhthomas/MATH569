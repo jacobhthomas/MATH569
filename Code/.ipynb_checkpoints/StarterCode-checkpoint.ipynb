{
 "cells": [
  {
   "cell_type": "markdown",
   "id": "f6a80df8",
   "metadata": {},
   "source": [
    "#### Making a singular data table of all our data"
   ]
  },
  {
   "cell_type": "code",
   "execution_count": 1,
   "id": "114c0ea5",
   "metadata": {},
   "outputs": [],
   "source": [
    "import pandas as pd\n",
    "import matplotlib.pyplot as plt\n",
    "import numpy as np\n",
    "from datetime import datetime"
   ]
  },
  {
   "cell_type": "code",
   "execution_count": 2,
   "id": "a8825937",
   "metadata": {},
   "outputs": [],
   "source": [
    "#Importing data from csv's\n",
    "traffic = pd.read_csv('reduced-Chicago_Traffic_Tracker_-_Historical_Congestion_Estimates_by_Segment_-_2011-2018_20240329.csv')\n",
    "weather = pd.read_csv('weather-chicago, il 2018-04-01 to 2018-05-01.csv')\n",
    "crashes = pd.read_csv(\"Traffic_Crashes_-_Crashes_20240329.csv\")"
   ]
  },
  {
   "cell_type": "code",
   "execution_count": 3,
   "id": "63374dd3",
   "metadata": {},
   "outputs": [],
   "source": [
    "#Importing crash (location only) data to possibly use later\n",
    "crashes_minimal = crashes[[\"CRASH_RECORD_ID\", \"CRASH_DATE\", \"LATITUDE\", \"LONGITUDE\"]]"
   ]
  },
  {
   "cell_type": "code",
   "execution_count": 4,
   "id": "5a2cc2dc",
   "metadata": {},
   "outputs": [],
   "source": [
    "# These functions turn the timestamp in the traffic dataset into the nearst time stamp\n",
    "# of the weather dataset (in that weather dataset's format), for merging\n",
    "def traffic_time_to_weather_time(instr):\n",
    "    date = instr.split()[0]\n",
    "    #print(date)\n",
    "    time = instr.split()[1]\n",
    "    ampm = instr.split()[2]\n",
    "    \n",
    "    year = date.split(\"/\")[2]\n",
    "    month = date.split(\"/\")[0]\n",
    "    day = date.split(\"/\")[1]\n",
    "    \n",
    "    hour = time.split(\":\")[0] if ampm == \"AM\" else str(int(time.split(\":\")[0])+12)\n",
    "    \n",
    "    return (year+\"-\"+month+\"-\"+day+\"T\"+hour+\":00:00\")\n",
    "def make_new_time(row):\n",
    "    return traffic_time_to_weather_time(row[\"TIME\"])"
   ]
  },
  {
   "cell_type": "code",
   "execution_count": 5,
   "id": "0d144e88",
   "metadata": {},
   "outputs": [
    {
     "data": {
      "text/html": [
       "<div>\n",
       "<style scoped>\n",
       "    .dataframe tbody tr th:only-of-type {\n",
       "        vertical-align: middle;\n",
       "    }\n",
       "\n",
       "    .dataframe tbody tr th {\n",
       "        vertical-align: top;\n",
       "    }\n",
       "\n",
       "    .dataframe thead th {\n",
       "        text-align: right;\n",
       "    }\n",
       "</style>\n",
       "<table border=\"1\" class=\"dataframe\">\n",
       "  <thead>\n",
       "    <tr style=\"text-align: right;\">\n",
       "      <th></th>\n",
       "      <th>TIME</th>\n",
       "      <th>SEGMENTID</th>\n",
       "      <th>BUS COUNT</th>\n",
       "      <th>MESSAGE COUNT</th>\n",
       "      <th>SPEED</th>\n",
       "      <th>datetime</th>\n",
       "    </tr>\n",
       "  </thead>\n",
       "  <tbody>\n",
       "    <tr>\n",
       "      <th>0</th>\n",
       "      <td>04/30/2018 11:50:28 PM</td>\n",
       "      <td>1133</td>\n",
       "      <td>1</td>\n",
       "      <td>5</td>\n",
       "      <td>27</td>\n",
       "      <td>2018-04-30T23:00:00</td>\n",
       "    </tr>\n",
       "    <tr>\n",
       "      <th>1</th>\n",
       "      <td>04/30/2018 11:50:28 PM</td>\n",
       "      <td>1133</td>\n",
       "      <td>1</td>\n",
       "      <td>5</td>\n",
       "      <td>27</td>\n",
       "      <td>2018-04-30T23:00:00</td>\n",
       "    </tr>\n",
       "    <tr>\n",
       "      <th>2</th>\n",
       "      <td>04/30/2018 11:50:28 PM</td>\n",
       "      <td>1153</td>\n",
       "      <td>1</td>\n",
       "      <td>4</td>\n",
       "      <td>23</td>\n",
       "      <td>2018-04-30T23:00:00</td>\n",
       "    </tr>\n",
       "    <tr>\n",
       "      <th>3</th>\n",
       "      <td>04/30/2018 11:50:28 PM</td>\n",
       "      <td>1153</td>\n",
       "      <td>1</td>\n",
       "      <td>4</td>\n",
       "      <td>23</td>\n",
       "      <td>2018-04-30T23:00:00</td>\n",
       "    </tr>\n",
       "    <tr>\n",
       "      <th>4</th>\n",
       "      <td>04/30/2018 11:50:28 PM</td>\n",
       "      <td>1178</td>\n",
       "      <td>1</td>\n",
       "      <td>5</td>\n",
       "      <td>16</td>\n",
       "      <td>2018-04-30T23:00:00</td>\n",
       "    </tr>\n",
       "    <tr>\n",
       "      <th>...</th>\n",
       "      <td>...</td>\n",
       "      <td>...</td>\n",
       "      <td>...</td>\n",
       "      <td>...</td>\n",
       "      <td>...</td>\n",
       "      <td>...</td>\n",
       "    </tr>\n",
       "    <tr>\n",
       "      <th>2577596</th>\n",
       "      <td>04/01/2018 12:01:06 AM</td>\n",
       "      <td>203</td>\n",
       "      <td>1</td>\n",
       "      <td>12</td>\n",
       "      <td>18</td>\n",
       "      <td>2018-04-01T12:00:00</td>\n",
       "    </tr>\n",
       "    <tr>\n",
       "      <th>2577597</th>\n",
       "      <td>04/01/2018 12:01:06 AM</td>\n",
       "      <td>204</td>\n",
       "      <td>1</td>\n",
       "      <td>1</td>\n",
       "      <td>24</td>\n",
       "      <td>2018-04-01T12:00:00</td>\n",
       "    </tr>\n",
       "    <tr>\n",
       "      <th>2577598</th>\n",
       "      <td>04/01/2018 12:01:06 AM</td>\n",
       "      <td>205</td>\n",
       "      <td>1</td>\n",
       "      <td>7</td>\n",
       "      <td>24</td>\n",
       "      <td>2018-04-01T12:00:00</td>\n",
       "    </tr>\n",
       "    <tr>\n",
       "      <th>2577599</th>\n",
       "      <td>04/01/2018 12:01:06 AM</td>\n",
       "      <td>206</td>\n",
       "      <td>1</td>\n",
       "      <td>6</td>\n",
       "      <td>24</td>\n",
       "      <td>2018-04-01T12:00:00</td>\n",
       "    </tr>\n",
       "    <tr>\n",
       "      <th>2577600</th>\n",
       "      <td>04/01/2018 12:01:06 AM</td>\n",
       "      <td>210</td>\n",
       "      <td>1</td>\n",
       "      <td>6</td>\n",
       "      <td>20</td>\n",
       "      <td>2018-04-01T12:00:00</td>\n",
       "    </tr>\n",
       "  </tbody>\n",
       "</table>\n",
       "<p>2577601 rows × 6 columns</p>\n",
       "</div>"
      ],
      "text/plain": [
       "                           TIME  SEGMENTID  BUS COUNT                  \\\n",
       "0        04/30/2018 11:50:28 PM       1133                          1   \n",
       "1        04/30/2018 11:50:28 PM       1133                          1   \n",
       "2        04/30/2018 11:50:28 PM       1153                          1   \n",
       "3        04/30/2018 11:50:28 PM       1153                          1   \n",
       "4        04/30/2018 11:50:28 PM       1178                          1   \n",
       "...                         ...        ...                        ...   \n",
       "2577596  04/01/2018 12:01:06 AM        203                          1   \n",
       "2577597  04/01/2018 12:01:06 AM        204                          1   \n",
       "2577598  04/01/2018 12:01:06 AM        205                          1   \n",
       "2577599  04/01/2018 12:01:06 AM        206                          1   \n",
       "2577600  04/01/2018 12:01:06 AM        210                          1   \n",
       "\n",
       "         MESSAGE COUNT  SPEED             datetime  \n",
       "0                    5     27  2018-04-30T23:00:00  \n",
       "1                    5     27  2018-04-30T23:00:00  \n",
       "2                    4     23  2018-04-30T23:00:00  \n",
       "3                    4     23  2018-04-30T23:00:00  \n",
       "4                    5     16  2018-04-30T23:00:00  \n",
       "...                ...    ...                  ...  \n",
       "2577596             12     18  2018-04-01T12:00:00  \n",
       "2577597              1     24  2018-04-01T12:00:00  \n",
       "2577598              7     24  2018-04-01T12:00:00  \n",
       "2577599              6     24  2018-04-01T12:00:00  \n",
       "2577600              6     20  2018-04-01T12:00:00  \n",
       "\n",
       "[2577601 rows x 6 columns]"
      ]
     },
     "execution_count": 5,
     "metadata": {},
     "output_type": "execute_result"
    }
   ],
   "source": [
    "traffic[\"datetime\"] = traffic.apply(make_new_time, axis=1)\n",
    "traffic"
   ]
  },
  {
   "cell_type": "code",
   "execution_count": 6,
   "id": "95ceb7da",
   "metadata": {},
   "outputs": [
    {
     "data": {
      "text/plain": [
       "Index(['TIME', 'SEGMENTID', 'BUS COUNT                ', 'MESSAGE COUNT',\n",
       "       'SPEED', 'datetime', 'name', 'temp', 'feelslike', 'dew', 'humidity',\n",
       "       'precip', 'precipprob', 'preciptype', 'snow', 'snowdepth', 'windgust',\n",
       "       'windspeed', 'winddir', 'sealevelpressure', 'cloudcover', 'visibility',\n",
       "       'solarradiation', 'solarenergy', 'uvindex', 'severerisk', 'conditions',\n",
       "       'icon', 'stations'],\n",
       "      dtype='object')"
      ]
     },
     "execution_count": 6,
     "metadata": {},
     "output_type": "execute_result"
    }
   ],
   "source": [
    "# New merged dataset \n",
    "traffic_merged = traffic.merge(weather, how='left')\n",
    "traffic_merged.columns"
   ]
  },
  {
   "cell_type": "code",
   "execution_count": null,
   "id": "124b7cb2",
   "metadata": {},
   "outputs": [],
   "source": []
  },
  {
   "cell_type": "markdown",
   "id": "96ed8d45",
   "metadata": {},
   "source": [
    "#### Test/Train split"
   ]
  },
  {
   "cell_type": "code",
   "execution_count": 7,
   "id": "8e5dca5c",
   "metadata": {},
   "outputs": [],
   "source": [
    "np.random.seed(569)"
   ]
  },
  {
   "cell_type": "code",
   "execution_count": 8,
   "id": "8c4fbb50",
   "metadata": {},
   "outputs": [],
   "source": [
    "# Proportion of the dataset to reserve for testing. We can change this later\n",
    "test_proportion = 0.2"
   ]
  },
  {
   "cell_type": "code",
   "execution_count": 9,
   "id": "228fc2e4",
   "metadata": {},
   "outputs": [
    {
     "data": {
      "text/plain": [
       "2577601"
      ]
     },
     "execution_count": 9,
     "metadata": {},
     "output_type": "execute_result"
    }
   ],
   "source": [
    "#A count to make sure we don't lose any indices\n",
    "len(traffic_merged)"
   ]
  },
  {
   "cell_type": "code",
   "execution_count": 10,
   "id": "e2191e5c",
   "metadata": {},
   "outputs": [
    {
     "data": {
      "text/plain": [
       "array([2577601])"
      ]
     },
     "execution_count": 10,
     "metadata": {},
     "output_type": "execute_result"
    }
   ],
   "source": [
    "# Test/train splits, with the count at the end to make sure we have the same number of indices at the end\n",
    "permutation = np.random.permutation(range(len(traffic_merged)))\n",
    "test_indicies = permutation[:int(test_proportion * len(traffic_merged))]\n",
    "train_indicies = permutation[int(test_proportion * len(traffic_merged)):]\n",
    "np.unique(len(test_indicies)+len(train_indicies))"
   ]
  },
  {
   "cell_type": "code",
   "execution_count": 11,
   "id": "444db341",
   "metadata": {},
   "outputs": [],
   "source": [
    "# Our test dataframe is test_df, and the train dataframe is train_df\n",
    "test_df = traffic_merged.iloc[test_indicies]\n",
    "train_df = traffic_merged.iloc[train_indicies]"
   ]
  },
  {
   "cell_type": "code",
   "execution_count": null,
   "id": "95f0804f",
   "metadata": {},
   "outputs": [],
   "source": []
  }
 ],
 "metadata": {
  "kernelspec": {
   "display_name": "Python 3 (ipykernel)",
   "language": "python",
   "name": "python3"
  },
  "language_info": {
   "codemirror_mode": {
    "name": "ipython",
    "version": 3
   },
   "file_extension": ".py",
   "mimetype": "text/x-python",
   "name": "python",
   "nbconvert_exporter": "python",
   "pygments_lexer": "ipython3",
   "version": "3.10.4"
  }
 },
 "nbformat": 4,
 "nbformat_minor": 5
}
